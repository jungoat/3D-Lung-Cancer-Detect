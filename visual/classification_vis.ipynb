{
 "cells": [
  {
   "cell_type": "code",
   "execution_count": 1,
   "id": "2d869244",
   "metadata": {},
   "outputs": [
    {
     "ename": "ModuleNotFoundError",
     "evalue": "No module named 'p2ch14'",
     "output_type": "error",
     "traceback": [
      "\u001b[1;31m---------------------------------------------------------------------------\u001b[0m",
      "\u001b[1;31mModuleNotFoundError\u001b[0m                       Traceback (most recent call last)",
      "Cell \u001b[1;32mIn[1], line 20\u001b[0m\n\u001b[0;32m     12\u001b[0m \u001b[38;5;28;01mimport\u001b[39;00m\u001b[38;5;250m \u001b[39m\u001b[38;5;21;01mseaborn\u001b[39;00m\u001b[38;5;250m \u001b[39m\u001b[38;5;28;01mas\u001b[39;00m\u001b[38;5;250m \u001b[39m\u001b[38;5;21;01msns\u001b[39;00m\n\u001b[0;32m     14\u001b[0m \u001b[38;5;28;01mfrom\u001b[39;00m\u001b[38;5;250m \u001b[39m\u001b[38;5;21;01msklearn\u001b[39;00m\u001b[38;5;21;01m.\u001b[39;00m\u001b[38;5;21;01mmetrics\u001b[39;00m\u001b[38;5;250m \u001b[39m\u001b[38;5;28;01mimport\u001b[39;00m (\n\u001b[0;32m     15\u001b[0m     confusion_matrix, ConfusionMatrixDisplay,\n\u001b[0;32m     16\u001b[0m     classification_report, precision_score,\n\u001b[0;32m     17\u001b[0m     recall_score, f1_score, roc_curve\n\u001b[0;32m     18\u001b[0m )\n\u001b[1;32m---> 20\u001b[0m \u001b[38;5;28;01mfrom\u001b[39;00m\u001b[38;5;250m \u001b[39m\u001b[38;5;21;01mp2ch14\u001b[39;00m\u001b[38;5;21;01m.\u001b[39;00m\u001b[38;5;21;01mmodel\u001b[39;00m\u001b[38;5;250m \u001b[39m\u001b[38;5;28;01mimport\u001b[39;00m LunaModel\n\u001b[0;32m     21\u001b[0m \u001b[38;5;28;01mfrom\u001b[39;00m\u001b[38;5;250m \u001b[39m\u001b[38;5;21;01mp2ch14\u001b[39;00m\u001b[38;5;21;01m.\u001b[39;00m\u001b[38;5;21;01mdsets\u001b[39;00m\u001b[38;5;250m \u001b[39m\u001b[38;5;28;01mimport\u001b[39;00m LunaDataset\n",
      "\u001b[1;31mModuleNotFoundError\u001b[0m: No module named 'p2ch14'"
     ]
    }
   ],
   "source": [
    "import os\n",
    "import pickle\n",
    "import numpy as np\n",
    "import pandas as pd\n",
    "from tqdm import tqdm\n",
    "\n",
    "import torch\n",
    "import torch.nn.functional as F\n",
    "from torch.utils.data import DataLoader\n",
    "\n",
    "import matplotlib.pyplot as plt\n",
    "import seaborn as sns\n",
    "\n",
    "from sklearn.metrics import (\n",
    "    confusion_matrix, ConfusionMatrixDisplay,\n",
    "    classification_report, precision_score,\n",
    "    recall_score, f1_score, roc_curve\n",
    ")\n",
    "\n",
    "from p2ch14.model import LunaModel\n",
    "from p2ch14.dsets import LunaDataset"
   ]
  },
  {
   "cell_type": "code",
   "execution_count": null,
   "id": "25919a6c",
   "metadata": {},
   "outputs": [
    {
     "name": "stderr",
     "output_type": "stream",
     "text": [
      "2025-07-16 16:51:50,282 INFO     pid:25088 p2ch14.dsets:279:__init__ <p2ch14.dsets.MalignantLunaDataset object at 0x00000190DF5D3130>: 51583 validation samples, 51429 neg, 154 pos, unbalanced ratio\n"
     ]
    },
    {
     "name": "stdout",
     "output_type": "stream",
     "text": [
      "[pylidc] Loading malignancy info...\n",
      "[pylidc] Loaded benign: 0, malignant: 0, negative: 549714\n"
     ]
    }
   ],
   "source": [
    "ds = p2ch14.dsets.MalignantLunaDataset(val_stride=10, isValSet_bool=True)\n",
    "nodules = ds.ben_list + ds.mal_list\n",
    "is_mal = torch.tensor([n.isMal_bool for n in nodules])\n",
    "diam = torch.tensor([n.diameter_mm for n in nodules])\n",
    "num_mal = is_mal.sum()\n",
    "num_ben = len(is_mal) - num_mal"
   ]
  },
  {
   "cell_type": "code",
   "execution_count": null,
   "id": "c680833b",
   "metadata": {},
   "outputs": [
    {
     "name": "stderr",
     "output_type": "stream",
     "text": [
      "2025-07-17 09:58:09,933 INFO     pid:4576 p2ch14.dsets:279:__init__ <p2ch14.dsets.LunaDataset object at 0x000002A0FF787F70>: 51583 validation samples, 51429 neg, 154 pos, unbalanced ratio\n",
      "100%|██████████| 6448/6448 [00:45<00:00, 140.53it/s]\n"
     ]
    },
    {
     "name": "stdout",
     "output_type": "stream",
     "text": [
      "[Confusion Matrix]\n",
      "[[50765   664]\n",
      " [    5   149]]\n",
      "\n",
      "[Classification Report]\n",
      "              precision    recall  f1-score   support\n",
      "\n",
      "           0     0.9999    0.9871    0.9935     51429\n",
      "           1     0.1833    0.9675    0.3082       154\n",
      "\n",
      "    accuracy                         0.9870     51583\n",
      "   macro avg     0.5916    0.9773    0.6508     51583\n",
      "weighted avg     0.9975    0.9870    0.9914     51583\n",
      "\n"
     ]
    },
    {
     "data": {
      "image/png": "[encoded data removed]",
      "text/plain": [
       "<Figure size 640x480 with 2 Axes>"
      ]
     },
     "metadata": {},
     "output_type": "display_data"
    },
    {
     "name": "stdout",
     "output_type": "stream",
     "text": [
      "\n",
      "[INFO] 저장된 TP 결절 수: 149\n"
     ]
    }
   ],
   "source": [
    "# 1. 모델 로딩\n",
    "model = LunaModel()\n",
    "device = torch.device(\"cuda\")\n",
    "model = model.to(device)\n",
    "model_path = \"data-unversioned/part2/models/p2ch14/cls_2025-07-14_09.09.08_dlwpt.2000000.state\"\n",
    "checkpoint = torch.load(model_path, map_location=device)\n",
    "model.load_state_dict(checkpoint['model_state'])\n",
    "model.eval()\n",
    "\n",
    "# 2. Validation 데이터 로더\n",
    "val_ds = LunaDataset(isValSet_bool=True, val_stride=10)\n",
    "val_loader = DataLoader(val_ds, batch_size=8, num_workers=0)\n",
    "\n",
    "# 3. 예측 및 결과 저장\n",
    "y_true = []\n",
    "y_pred = []\n",
    "y_prob = []\n",
    "predicted_nodules = []\n",
    "\n",
    "with torch.no_grad():\n",
    "    for data, label, series_list, center_list, *_ in tqdm(val_loader):\n",
    "        data = data.to(device)\n",
    "        output = model(data)\n",
    "\n",
    "        if isinstance(output, tuple):\n",
    "            output = output[0]\n",
    "\n",
    "        probs = F.softmax(output, dim=1).detach().cpu().numpy()\n",
    "        labels = label.argmax(dim=1).cpu().numpy()\n",
    "        preds = (probs[:, 1] > 0.5).astype(int)\n",
    "\n",
    "        y_true.extend(labels.tolist())\n",
    "        y_pred.extend(preds.tolist())\n",
    "        y_prob.extend(probs[:, 1].tolist())\n",
    "\n",
    "        for prob_score, true_label, pred_label, series_uid, center_xyz in zip(\n",
    "            probs[:, 1], labels, preds, series_list, center_list\n",
    "        ):\n",
    "            if true_label == 1 and pred_label == 1:\n",
    "                predicted_nodules.append({\n",
    "                    'series_uid': series_uid,\n",
    "                    'center_xyz': center_xyz,\n",
    "                    'probability': prob_score\n",
    "                })\n",
    "\n",
    "# 4. 혼동 행렬 출력\n",
    "cm = confusion_matrix(y_true, y_pred)\n",
    "print(\"[Confusion Matrix]\")\n",
    "print(cm)\n",
    "\n",
    "print(\"\\n[Classification Report]\")\n",
    "print(classification_report(y_true, y_pred, digits=4))\n",
    "\n",
    "# 시각화\n",
    "disp = ConfusionMatrixDisplay(confusion_matrix=cm, display_labels=['Negative', 'Positive'])\n",
    "disp.plot(cmap=plt.cm.Blues)\n",
    "plt.title(\"Confusion Matrix\")\n",
    "plt.savefig(\"confusion_matrix.png\")\n",
    "plt.show()\n",
    "\n",
    "# 5. TP 저장\n",
    "with open(\"predicted_nodules_base.pkl\", \"wb\") as f:\n",
    "    pickle.dump(predicted_nodules, f)\n",
    "\n",
    "print(f\"\\n[INFO] 저장된 TP 결절 수: {len(predicted_nodules)}\")\n"
   ]
  },
  {
   "cell_type": "code",
   "execution_count": null,
   "id": "a916c8be",
   "metadata": {},
   "outputs": [
    {
     "name": "stderr",
     "output_type": "stream",
     "text": [
      "2025-07-17 09:27:40,219 INFO     pid:4576 p2ch14.dsets:279:__init__ <p2ch14.dsets.LunaDataset object at 0x000002A09793E920>: 51583 validation samples, 51429 neg, 154 pos, unbalanced ratio\n",
      "100%|██████████| 6448/6448 [00:42<00:00, 151.23it/s]"
     ]
    },
    {
     "name": "stdout",
     "output_type": "stream",
     "text": [
      "[INFO] 저장된 결절 수: 149\n"
     ]
    },
    {
     "name": "stderr",
     "output_type": "stream",
     "text": [
      "\n"
     ]
    }
   ],
   "source": [
    "# 1. 모델 로딩\n",
    "model = LunaModel()\n",
    "device = torch.device(\"cuda\")\n",
    "model = model.to(device)\n",
    "\n",
    "model_path = \"data-unversioned/part2/models/p2ch14/cls_2025-07-14_09.09.08_dlwpt.2000000.state\"\n",
    "checkpoint = torch.load(model_path, map_location=device)\n",
    "model.load_state_dict(checkpoint['model_state'])\n",
    "model.eval()\n",
    "\n",
    "# 2. Validation 데이터 로더\n",
    "val_ds = LunaDataset(isValSet_bool=True, val_stride=10)\n",
    "val_loader = DataLoader(val_ds, batch_size=8, num_workers=0)\n",
    "\n",
    "# 3. 예측 및 결과 저장\n",
    "predicted_nodules = []\n",
    "\n",
    "with torch.no_grad():\n",
    "    for data, label, series_list, center_list, *_ in tqdm(val_loader):\n",
    "        data = data.to(device)\n",
    "        output = model(data)\n",
    "\n",
    "        if isinstance(output, tuple):\n",
    "            output = output[0]\n",
    "\n",
    "        prob = F.softmax(output, dim=1).detach().cpu().numpy()\n",
    "        positive_probs = prob[:, 1].tolist()\n",
    "        labels = label.argmax(dim=1).cpu().numpy().tolist()\n",
    "        preds = [1 if p > 0.5 else 0 for p in positive_probs]\n",
    "\n",
    "        for prob_score, true_label, pred_label, series_uid, center_xyz in zip(\n",
    "            positive_probs, labels, preds, series_list, center_list\n",
    "        ):\n",
    "            if true_label == 1 and pred_label == 1:\n",
    "                predicted_nodules.append({\n",
    "                    'series_uid': series_uid,\n",
    "                    'center_xyz': center_xyz,\n",
    "                    'probability': prob_score\n",
    "                })\n",
    "\n",
    "# 4. 저장\n",
    "with open(\"predicted_nodules_base.pkl\", \"wb\") as f:\n",
    "    pickle.dump(predicted_nodules, f)\n",
    "\n",
    "print(f\"[INFO] 저장된 결절 수: {len(predicted_nodules)}\")"
   ]
  },
  {
   "cell_type": "code",
   "execution_count": null,
   "id": "537deb74",
   "metadata": {},
   "outputs": [
    {
     "name": "stderr",
     "output_type": "stream",
     "text": [
      "2025-07-17 09:44:25,859 INFO     pid:4576 p2ch14.dsets:279:__init__ <p2ch14.dsets.LunaDataset object at 0x000002A0DFA6C340>: 51583 validation samples, 51429 neg, 154 pos, unbalanced ratio\n",
      "100%|██████████| 6448/6448 [00:51<00:00, 124.47it/s]"
     ]
    },
    {
     "name": "stdout",
     "output_type": "stream",
     "text": [
      "[INFO] 저장 완료: 총 149개 True Positive\n"
     ]
    },
    {
     "name": "stderr",
     "output_type": "stream",
     "text": [
      "\n"
     ]
    }
   ],
   "source": [
    "# 모델 로딩\n",
    "model = LunaModel()\n",
    "device = torch.device(\"cuda\")\n",
    "model.load_state_dict(torch.load(\"data-unversioned/part2/models/p2ch14/cls_2025-07-14_09.09.08_dlwpt.2000000.state\", map_location=device)['model_state'])\n",
    "model = model.to(device).eval()\n",
    "\n",
    "# 데이터 로더\n",
    "val_ds = LunaDataset(isValSet_bool=True, val_stride=10)\n",
    "val_loader = DataLoader(val_ds, batch_size=8, num_workers=0)\n",
    "\n",
    "# 결과 저장\n",
    "predicted_nodules = []\n",
    "\n",
    "with torch.no_grad():\n",
    "    for data, label, _, series_list, center_list in tqdm(val_loader):\n",
    "        data = data.to(device)\n",
    "        output = model(data)\n",
    "\n",
    "        if isinstance(output, tuple):\n",
    "            output = output[0]\n",
    "\n",
    "        probs = F.softmax(output, dim=1).detach().cpu().numpy()\n",
    "        labels = label.argmax(dim=1).cpu().numpy()\n",
    "        preds = (probs[:, 1] > 0.5).astype(int)\n",
    "\n",
    "        for prob_score, true_label, pred_label, series_uid, center_xyz in zip(\n",
    "            probs[:, 1], labels, preds, series_list, center_list\n",
    "        ):\n",
    "            # 🔒 여기서 series_uid는 이미 문자열 UID임 (수정 불필요)\n",
    "            if true_label == 1 and pred_label == 1:\n",
    "                predicted_nodules.append({\n",
    "                    'series_uid': str(series_uid),  # 안전하게 문자열로 변환\n",
    "                    'center_xyz': center_xyz.tolist(),  # numpy 호환\n",
    "                    'probability': float(prob_score)\n",
    "                })\n",
    "\n",
    "# 저장\n",
    "with open(\"predicted_nodules_fixed.pkl\", \"wb\") as f:\n",
    "    pickle.dump(predicted_nodules, f)\n",
    "\n",
    "print(f\"[INFO] 저장 완료: 총 {len(predicted_nodules)}개 True Positive\")"
   ]
  },
  {
   "cell_type": "code",
   "execution_count": null,
   "id": "e4c6c1ef",
   "metadata": {},
   "outputs": [
    {
     "name": "stdout",
     "output_type": "stream",
     "text": [
      "[Matched: 149 / 149]\n",
      "  ▸ 악성: 57\n",
      "  ▸ 양성: 92\n",
      "  ▸ 매칭 실패: 0\n"
     ]
    }
   ],
   "source": [
    "# 1. 수정된 pickle 불러오기\n",
    "with open(\"predicted_nodules_fixed.pkl\", \"rb\") as f:\n",
    "    predicted_nodules = pickle.load(f)\n",
    "\n",
    "# 2. GT 로딩\n",
    "anno_df = pd.read_csv(\"data/part2/luna/annotations_with_malignancy.csv\")\n",
    "anno_df = anno_df.rename(columns={'seriesuid': 'series_uid', 'mal_bool': 'malignancy'})\n",
    "anno_df['series_uid'] = anno_df['series_uid'].astype(str).str.strip()\n",
    "\n",
    "# 3. GT 딕셔너리화\n",
    "gt_coords_by_uid = {}\n",
    "for _, row in anno_df.iterrows():\n",
    "    uid = row['series_uid']\n",
    "    coord = (row['coordX'], row['coordY'], row['coordZ'])\n",
    "    malignancy = row['malignancy']\n",
    "    gt_coords_by_uid.setdefault(uid, []).append((coord, malignancy))\n",
    "\n",
    "# 4. 매칭\n",
    "output_rows = []\n",
    "\n",
    "for pred in predicted_nodules:\n",
    "    uid = pred['series_uid']\n",
    "    prob = pred['probability']\n",
    "    cx, cy, cz = pred['center_xyz'][:3]\n",
    "    pred_xyz = np.array([[cx, cy, cz]])\n",
    "\n",
    "    if uid not in gt_coords_by_uid:\n",
    "        output_rows.append({\n",
    "            'series_uid': uid,\n",
    "            'centerX': cx,\n",
    "            'centerY': cy,\n",
    "            'centerZ': cz,\n",
    "            'probability': prob,\n",
    "            'matched': False,\n",
    "            'malignancy': None\n",
    "        })\n",
    "        continue\n",
    "\n",
    "    gt_coords = np.array([xyz for xyz, _ in gt_coords_by_uid[uid]])\n",
    "    malignancies = [mal for _, mal in gt_coords_by_uid[uid]]\n",
    "    distances = cdist(pred_xyz, gt_coords).flatten()\n",
    "    min_idx = distances.argmin()\n",
    "    matched_malignancy = malignancies[min_idx]\n",
    "\n",
    "    output_rows.append({\n",
    "        'series_uid': uid,\n",
    "        'centerX': cx,\n",
    "        'centerY': cy,\n",
    "        'centerZ': cz,\n",
    "        'probability': prob,\n",
    "        'matched': True,\n",
    "        'malignancy': matched_malignancy\n",
    "    })\n",
    "\n",
    "# 5. 저장\n",
    "df_out = pd.DataFrame(output_rows)\n",
    "df_out.to_csv(\"matched_and_unmatched.csv\", index=False)\n",
    "\n",
    "# 6. 통계\n",
    "matched_df = df_out[df_out['matched']]\n",
    "print(f\"[Matched: {len(matched_df)} / {len(df_out)}]\")\n",
    "print(f\"  ▸ 악성: {matched_df['malignancy'].sum()}\")\n",
    "print(f\"  ▸ 양성: {(matched_df['malignancy'] == 0).sum()}\")\n",
    "print(f\"  ▸ 매칭 실패: {len(df_out) - len(matched_df)}\")"
   ]
  },
  {
   "cell_type": "code",
   "execution_count": null,
   "id": "282de8cc",
   "metadata": {},
   "outputs": [
    {
     "data": {
      "image/png": "[encoded data removed]",
      "text/plain": [
       "<Figure size 500x500 with 1 Axes>"
      ]
     },
     "metadata": {},
     "output_type": "display_data"
    }
   ],
   "source": [
    "labels = ['Benign (92)', 'Malignant (57)']\n",
    "sizes = [92, 57]\n",
    "colors = ['skyblue', 'lightcoral']\n",
    "\n",
    "plt.figure(figsize=(5,5))\n",
    "plt.pie(sizes, labels=labels, autopct='%1.1f%%', colors=colors, startangle=90)\n",
    "plt.title('Benign vs Malignant ratio')\n",
    "plt.tight_layout()\n",
    "plt.savefig('malignancy_pie.png')\n",
    "plt.show()"
   ]
  },
  {
   "cell_type": "markdown",
   "id": "cc35146e",
   "metadata": {},
   "source": [
    "### 데이터 증강"
   ]
  },
  {
   "cell_type": "code",
   "execution_count": null,
   "id": "9e333528",
   "metadata": {},
   "outputs": [
    {
     "name": "stderr",
     "output_type": "stream",
     "text": [
      "100%|██████████| 6448/6448 [01:44<00:00, 61.82it/s]"
     ]
    },
    {
     "name": "stdout",
     "output_type": "stream",
     "text": [
      "\n",
      "[Inference Summary]\n",
      " 총 원본 샘플 수      : 51583\n",
      " 전체 추론 횟수       : 308회 (양성만 증강 적용)\n"
     ]
    },
    {
     "name": "stderr",
     "output_type": "stream",
     "text": [
      "\n"
     ]
    }
   ],
   "source": [
    "model.eval()\n",
    "y_true = []\n",
    "y_score = []\n",
    "\n",
    "num_aug = 0\n",
    "num_samples = 0\n",
    "\n",
    "with torch.no_grad():\n",
    "    for data, label, *_ in tqdm(val_loader):\n",
    "        data = data.to(device)\n",
    "        label = label.to(device)\n",
    "\n",
    "        batch_size = data.size(0)\n",
    "\n",
    "        for i in range(batch_size):\n",
    "            x = data[i].unsqueeze(0)  # [1, C, H, W]\n",
    "            l = label[i].argmax().item()  # 0 or 1\n",
    "\n",
    "            preds = []\n",
    "\n",
    "            if l == 1:\n",
    "                # 양성인 경우만 2개 증강 (원본 + 좌우반전)\n",
    "                aug_funcs = [\n",
    "                    lambda x: x,\n",
    "                    lambda x: torch.flip(x, dims=[-1])\n",
    "                ]\n",
    "                for aug in aug_funcs:\n",
    "                    x_aug = aug(x)\n",
    "                    out = model(x_aug)\n",
    "                    if isinstance(out, tuple):\n",
    "                        out = out[0]\n",
    "                    preds.append(out)\n",
    "                    num_aug += 1\n",
    "            else:\n",
    "                # 음성은 원본만\n",
    "                out = model(x)\n",
    "                if isinstance(out, tuple):\n",
    "                    out = out[0]\n",
    "                preds.append(out)\n",
    "\n",
    "            # 평균\n",
    "            output_avg = torch.stack(preds).mean(dim=0)\n",
    "            prob = torch.sigmoid(output_avg).detach().cpu().numpy().squeeze()\n",
    "\n",
    "            y_score.append(prob[1])  # 긍정 클래스 확률\n",
    "            y_true.append(l)\n",
    "\n",
    "            num_samples += 1\n",
    "\n",
    "# 로그 출력\n",
    "print(f\"\\n[Inference Summary]\")\n",
    "print(f\" 총 원본 샘플 수      : {num_samples}\")\n",
    "print(f\" 전체 추론 횟수       : {num_aug}회 (양성만 증강 적용)\")"
   ]
  },
  {
   "cell_type": "code",
   "execution_count": null,
   "id": "cdc92bc2",
   "metadata": {},
   "outputs": [
    {
     "name": "stdout",
     "output_type": "stream",
     "text": [
      "\n",
      "[Evaluation Metrics @ Best Threshold (Youden’s Index)]\n",
      " Best threshold: 0.1444\n",
      "\n",
      " Confusion Matrix:\n",
      "[[50589   840]\n",
      " [    6   148]]\n",
      "\n",
      " Precision: 0.1498\n",
      " Recall:    0.9610\n",
      " F1-score:  0.2592\n"
     ]
    }
   ],
   "source": [
    "fpr, tpr, thresholds = roc_curve(y_true, y_score)\n",
    "youden_index = tpr - fpr\n",
    "best_threshold = thresholds[np.argmax(youden_index)]\n",
    "\n",
    "# 2. 예측 라벨 생성\n",
    "y_pred = [1 if s > best_threshold else 0 for s in y_score]\n",
    "\n",
    "# 3. 혼동행렬 및 지표\n",
    "cm = confusion_matrix(y_true, y_pred)\n",
    "precision = precision_score(y_true, y_pred)\n",
    "recall = recall_score(y_true, y_pred)\n",
    "f1 = f1_score(y_true, y_pred)\n",
    "\n",
    "# 4. 출력\n",
    "print(f\"\\n[Evaluation Metrics @ Best Threshold (Youden’s Index)]\")\n",
    "print(f\" Best threshold: {best_threshold:.4f}\")\n",
    "print(\"\\n Confusion Matrix:\")\n",
    "print(cm)\n",
    "print(f\"\\n Precision: {precision:.4f}\")\n",
    "print(f\" Recall:    {recall:.4f}\")\n",
    "print(f\" F1-score:  {f1:.4f}\")"
   ]
  },
  {
   "cell_type": "code",
   "execution_count": null,
   "id": "be3afb53",
   "metadata": {},
   "outputs": [
    {
     "name": "stdout",
     "output_type": "stream",
     "text": [
      "\n",
      " Best threshold (Youden's Index): 0.1444\n",
      "\n",
      " Confusion Matrix:\n",
      "[[50589   840]\n",
      " [    6   148]]\n",
      "\n",
      " Precision: 0.1498\n",
      " Recall:    0.9610\n",
      " F1-score:  0.2592\n"
     ]
    },
    {
     "data": {
      "image/png": "[encoded data removed]",
      "text/plain": [
       "<Figure size 600x500 with 1 Axes>"
      ]
     },
     "metadata": {},
     "output_type": "display_data"
    }
   ],
   "source": [
    "# 1. y_true, y_score 차원 조정 (필수!)\n",
    "y_true = np.array(y_true).ravel()\n",
    "y_score = np.array(y_score).ravel()\n",
    "\n",
    "# 2. ROC 계산\n",
    "fpr, tpr, thresholds = roc_curve(y_true, y_score)\n",
    "\n",
    "# 3. Youden's Index\n",
    "youden_index = tpr - fpr\n",
    "best_threshold = thresholds[np.argmax(youden_index)]\n",
    "print(f\"\\n Best threshold (Youden's Index): {best_threshold:.4f}\")\n",
    "\n",
    "# 4. 이진 예측\n",
    "y_pred_best = (y_score > best_threshold).astype(int)\n",
    "\n",
    "# 5. 평가 지표\n",
    "cm = confusion_matrix(y_true, y_pred_best)\n",
    "precision = precision_score(y_true, y_pred_best)\n",
    "recall = recall_score(y_true, y_pred_best)\n",
    "f1 = f1_score(y_true, y_pred_best)\n",
    "\n",
    "print(\"\\n Confusion Matrix:\")\n",
    "print(cm)\n",
    "print(f\"\\n Precision: {precision:.4f}\")\n",
    "print(f\" Recall:    {recall:.4f}\")\n",
    "print(f\" F1-score:  {f1:.4f}\")\n",
    "\n",
    "# 6. 혼동 행렬 시각화\n",
    "plt.figure(figsize=(6, 5))\n",
    "sns.heatmap(cm, annot=True, fmt='d', cmap='Blues', cbar=False,\n",
    "            xticklabels=[\"Pred. Neg\", \"Pred. Pos\"],\n",
    "            yticklabels=[\"True Neg\", \"True Pos\"])\n",
    "plt.xlabel(\"Predicted Label\")\n",
    "plt.ylabel(\"True Label\")\n",
    "plt.title(\"Confusion Matrix (Threshold = {:.4f})\".format(best_threshold))\n",
    "plt.tight_layout()\n",
    "plt.show()"
   ]
  }
 ],
 "metadata": {
  "kernelspec": {
   "display_name": "ami4",
   "language": "python",
   "name": "python3"
  },
  "language_info": {
   "codemirror_mode": {
    "name": "ipython",
    "version": 3
   },
   "file_extension": ".py",
   "mimetype": "text/x-python",
   "name": "python",
   "nbconvert_exporter": "python",
   "pygments_lexer": "ipython3",
   "version": "3.10.18"
  }
 },
 "nbformat": 4,
 "nbformat_minor": 5
}
