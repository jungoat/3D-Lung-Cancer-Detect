{
 "cells": [
  {
   "cell_type": "code",
   "execution_count": 12,
   "id": "83f1a7a3",
   "metadata": {},
   "outputs": [],
   "source": [
    "import os\n",
    "import pickle\n",
    "import numpy as np\n",
    "import pandas as pd\n",
    "from tqdm import tqdm\n",
    "\n",
    "import torch\n",
    "import torch.nn.functional as F\n",
    "from torch.utils.data import DataLoader\n",
    "\n",
    "import matplotlib.pyplot as plt\n",
    "import seaborn as sns\n",
    "\n",
    "from sklearn.metrics import (\n",
    "    confusion_matrix, ConfusionMatrixDisplay,\n",
    "    classification_report, precision_score,\n",
    "    recall_score, f1_score, roc_curve\n",
    ")\n",
    "\n",
    "from p2ch14.model1 import LunaModel\n",
    "from p2ch14.dsets import LunaDataset"
   ]
  },
  {
   "cell_type": "code",
   "execution_count": 13,
   "id": "edb7fa39",
   "metadata": {},
   "outputs": [
    {
     "name": "stderr",
     "output_type": "stream",
     "text": [
      "2025-07-17 10:01:32,780 INFO     pid:27964 p2ch14.dsets:279:__init__ <p2ch14.dsets.MalignantLunaDataset object at 0x000001A4A0AAC640>: 51583 validation samples, 51429 neg, 154 pos, unbalanced ratio\n"
     ]
    },
    {
     "name": "stdout",
     "output_type": "stream",
     "text": [
      "[pylidc] Loading malignancy info...\n",
      "[pylidc] Loaded benign: 0, malignant: 0, negative: 549714\n"
     ]
    }
   ],
   "source": [
    "ds = p2ch14.dsets.MalignantLunaDataset(val_stride=10, isValSet_bool=True)\n",
    "nodules = ds.ben_list + ds.mal_list\n",
    "is_mal = torch.tensor([n.isMal_bool for n in nodules])\n",
    "diam = torch.tensor([n.diameter_mm for n in nodules])\n",
    "num_mal = is_mal.sum()\n",
    "num_ben = len(is_mal) - num_mal"
   ]
  },
  {
   "cell_type": "code",
   "execution_count": null,
   "id": "510f8559",
   "metadata": {},
   "outputs": [
    {
     "name": "stderr",
     "output_type": "stream",
     "text": [
      "2025-07-17 09:59:31,836 INFO     pid:27964 p2ch14.dsets:279:__init__ <p2ch14.dsets.LunaDataset object at 0x000001A4A0A385B0>: 51583 validation samples, 51429 neg, 154 pos, unbalanced ratio\n",
      "100%|██████████| 6448/6448 [00:50<00:00, 128.79it/s]"
     ]
    },
    {
     "name": "stdout",
     "output_type": "stream",
     "text": [
      "[Confusion Matrix]\n",
      "[[50811   618]\n",
      " [    4   150]]\n",
      "\n",
      "[Classification Report]\n",
      "              precision    recall  f1-score   support\n",
      "\n",
      "           0     0.9999    0.9880    0.9939     51429\n",
      "           1     0.1953    0.9740    0.3254       154\n",
      "\n",
      "    accuracy                         0.9879     51583\n",
      "   macro avg     0.5976    0.9810    0.6596     51583\n",
      "weighted avg     0.9975    0.9879    0.9919     51583\n",
      "\n"
     ]
    },
    {
     "name": "stderr",
     "output_type": "stream",
     "text": [
      "\n"
     ]
    },
    {
     "data": {
      "image/png": "[encoded data removed]",
      "text/plain": [
       "<Figure size 640x480 with 2 Axes>"
      ]
     },
     "metadata": {},
     "output_type": "display_data"
    },
    {
     "name": "stdout",
     "output_type": "stream",
     "text": [
      "\n",
      "[INFO] 저장된 TP 결절 수: 150\n"
     ]
    }
   ],
   "source": [
    "model = LunaModel()\n",
    "device = torch.device(\"cuda\")\n",
    "model = model.to(device)\n",
    "model_path = \"data-unversioned/part2/models/p2ch14/resnet_2025-07-16_09.59.26_dlwpt.1500000.state\"\n",
    "checkpoint = torch.load(model_path, map_location=device)\n",
    "model.load_state_dict(checkpoint['model_state'])\n",
    "model.eval()\n",
    "\n",
    "val_ds = LunaDataset(isValSet_bool=True, val_stride=10)\n",
    "val_loader = DataLoader(val_ds, batch_size=8, num_workers=0)\n",
    "\n",
    "y_true = []\n",
    "y_pred = []\n",
    "y_prob = []\n",
    "predicted_nodules = []\n",
    "\n",
    "with torch.no_grad():\n",
    "    for data, label, series_list, center_list, *_ in tqdm(val_loader):\n",
    "        data = data.to(device)\n",
    "        output = model(data)\n",
    "\n",
    "        if isinstance(output, tuple):\n",
    "            output = output[0]\n",
    "\n",
    "        probs = F.softmax(output, dim=1).detach().cpu().numpy()\n",
    "        labels = label.argmax(dim=1).cpu().numpy()\n",
    "        preds = (probs[:, 1] > 0.5).astype(int)\n",
    "\n",
    "        y_true.extend(labels.tolist())\n",
    "        y_pred.extend(preds.tolist())\n",
    "        y_prob.extend(probs[:, 1].tolist())\n",
    "\n",
    "        for prob_score, true_label, pred_label, series_uid, center_xyz in zip(\n",
    "            probs[:, 1], labels, preds, series_list, center_list\n",
    "        ):\n",
    "            if true_label == 1 and pred_label == 1:\n",
    "                predicted_nodules.append({\n",
    "                    'series_uid': series_uid,\n",
    "                    'center_xyz': center_xyz,\n",
    "                    'probability': prob_score\n",
    "                })\n",
    "\n",
    "# 4. 혼동 행렬 출력\n",
    "cm = confusion_matrix(y_true, y_pred)\n",
    "print(\"[Confusion Matrix]\")\n",
    "print(cm)\n",
    "\n",
    "print(\"\\n[Classification Report]\")\n",
    "print(classification_report(y_true, y_pred, digits=4))\n",
    "\n",
    "# 시각화\n",
    "disp = ConfusionMatrixDisplay(confusion_matrix=cm, display_labels=['Negative', 'Positive'])\n",
    "disp.plot(cmap=plt.cm.Blues)\n",
    "plt.title(\"Confusion Matrix\")\n",
    "plt.savefig(\"confusion_matrix.png\")\n",
    "plt.show()\n",
    "\n",
    "# 5. TP 저장\n",
    "with open(\"predicted_nodules_base.pkl\", \"wb\") as f:\n",
    "    pickle.dump(predicted_nodules, f)\n",
    "\n",
    "print(f\"\\n saved TP nodule : {len(predicted_nodules)}\")"
   ]
  },
  {
   "cell_type": "code",
   "execution_count": null,
   "id": "8376adb5",
   "metadata": {},
   "outputs": [
    {
     "name": "stderr",
     "output_type": "stream",
     "text": [
      "2025-07-17 09:56:26,954 INFO     pid:27964 p2ch14.dsets:279:__init__ <p2ch14.dsets.LunaDataset object at 0x000001A28E5FC370>: 51583 validation samples, 51429 neg, 154 pos, unbalanced ratio\n",
      "100%|██████████| 6448/6448 [00:51<00:00, 124.51it/s]"
     ]
    },
    {
     "name": "stdout",
     "output_type": "stream",
     "text": [
      "[INFO] 저장 완료: 총 150개 True Positive\n"
     ]
    },
    {
     "name": "stderr",
     "output_type": "stream",
     "text": [
      "\n"
     ]
    }
   ],
   "source": [
    "model = LunaModel()\n",
    "device = torch.device(\"cuda\")\n",
    "model.load_state_dict(torch.load(\"data-unversioned/part2/models/p2ch14/resnet_2025-07-16_09.59.26_dlwpt.1500000.state\", map_location=device)['model_state'])\n",
    "model = model.to(device).eval()\n",
    "\n",
    "val_ds = LunaDataset(isValSet_bool=True, val_stride=10)\n",
    "val_loader = DataLoader(val_ds, batch_size=8, num_workers=0)\n",
    "\n",
    "predicted_nodules = []\n",
    "\n",
    "with torch.no_grad():\n",
    "    for data, label, _, series_list, center_list in tqdm(val_loader):\n",
    "        data = data.to(device)\n",
    "        output = model(data)\n",
    "\n",
    "        if isinstance(output, tuple):\n",
    "            output = output[0]\n",
    "\n",
    "        probs = F.softmax(output, dim=1).detach().cpu().numpy()\n",
    "        labels = label.argmax(dim=1).cpu().numpy()\n",
    "        preds = (probs[:, 1] > 0.5).astype(int)\n",
    "\n",
    "        for prob_score, true_label, pred_label, series_uid, center_xyz in zip(\n",
    "            probs[:, 1], labels, preds, series_list, center_list\n",
    "        ):\n",
    "            # 🔒 여기서 series_uid는 이미 문자열 UID임 (수정 불필요)\n",
    "            if true_label == 1 and pred_label == 1:\n",
    "                predicted_nodules.append({\n",
    "                    'series_uid': str(series_uid),  # 안전하게 문자열로 변환\n",
    "                    'center_xyz': center_xyz.tolist(),  # numpy 호환\n",
    "                    'probability': float(prob_score)\n",
    "                })\n",
    "\n",
    "with open(\"predicted_nodules_resnet.pkl\", \"wb\") as f:\n",
    "    pickle.dump(predicted_nodules, f)\n",
    "\n",
    "print(f\"save finish: {len(predicted_nodules)} True Positive\")"
   ]
  },
  {
   "cell_type": "code",
   "execution_count": null,
   "id": "f55d7006",
   "metadata": {},
   "outputs": [
    {
     "name": "stdout",
     "output_type": "stream",
     "text": [
      "[Matched: 150 / 150]\n",
      "  ▸ 악성: 58\n",
      "  ▸ 양성: 92\n",
      "  ▸ 매칭 실패: 0\n"
     ]
    }
   ],
   "source": [
    "# 1. 수정된 pickle 불러오기\n",
    "with open(\"predicted_nodules_resnet.pkl\", \"rb\") as f:\n",
    "    predicted_nodules = pickle.load(f)\n",
    "\n",
    "# 2. GT 로딩\n",
    "anno_df = pd.read_csv(\"data/part2/luna/annotations_with_malignancy.csv\")\n",
    "anno_df = anno_df.rename(columns={'seriesuid': 'series_uid', 'mal_bool': 'malignancy'})\n",
    "anno_df['series_uid'] = anno_df['series_uid'].astype(str).str.strip()\n",
    "\n",
    "# 3. GT 딕셔너리화\n",
    "gt_coords_by_uid = {}\n",
    "for _, row in anno_df.iterrows():\n",
    "    uid = row['series_uid']\n",
    "    coord = (row['coordX'], row['coordY'], row['coordZ'])\n",
    "    malignancy = row['malignancy']\n",
    "    gt_coords_by_uid.setdefault(uid, []).append((coord, malignancy))\n",
    "\n",
    "# 4. 매칭\n",
    "output_rows = []\n",
    "\n",
    "for pred in predicted_nodules:\n",
    "    uid = pred['series_uid']\n",
    "    prob = pred['probability']\n",
    "    cx, cy, cz = pred['center_xyz'][:3]\n",
    "    pred_xyz = np.array([[cx, cy, cz]])\n",
    "\n",
    "    if uid not in gt_coords_by_uid:\n",
    "        output_rows.append({\n",
    "            'series_uid': uid,\n",
    "            'centerX': cx,\n",
    "            'centerY': cy,\n",
    "            'centerZ': cz,\n",
    "            'probability': prob,\n",
    "            'matched': False,\n",
    "            'malignancy': None\n",
    "        })\n",
    "        continue\n",
    "\n",
    "    gt_coords = np.array([xyz for xyz, _ in gt_coords_by_uid[uid]])\n",
    "    malignancies = [mal for _, mal in gt_coords_by_uid[uid]]\n",
    "    distances = cdist(pred_xyz, gt_coords).flatten()\n",
    "    min_idx = distances.argmin()\n",
    "    matched_malignancy = malignancies[min_idx]\n",
    "\n",
    "    output_rows.append({\n",
    "        'series_uid': uid,\n",
    "        'centerX': cx,\n",
    "        'centerY': cy,\n",
    "        'centerZ': cz,\n",
    "        'probability': prob,\n",
    "        'matched': True,\n",
    "        'malignancy': matched_malignancy\n",
    "    })\n",
    "\n",
    "# 5. 저장\n",
    "df_out = pd.DataFrame(output_rows)\n",
    "df_out.to_csv(\"matched_and_unmatched.csv\", index=False)\n",
    "\n",
    "# 6. 통계\n",
    "matched_df = df_out[df_out['matched']]\n",
    "print(f\"[Matched: {len(matched_df)} / {len(df_out)}]\")\n",
    "print(f\"  ▸ 악성: {matched_df['malignancy'].sum()}\")\n",
    "print(f\"  ▸ 양성: {(matched_df['malignancy'] == 0).sum()}\")\n",
    "print(f\"  ▸ 매칭 실패: {len(df_out) - len(matched_df)}\")"
   ]
  },
  {
   "cell_type": "code",
   "execution_count": null,
   "id": "147b5b65",
   "metadata": {},
   "outputs": [
    {
     "data": {
      "image/png": "[encoded data removed]",
      "text/plain": [
       "<Figure size 500x400 with 2 Axes>"
      ]
     },
     "metadata": {},
     "output_type": "display_data"
    }
   ],
   "source": [
    "y_pred = [1 if p > 0.5 else 0 for p in y_score]\n",
    "cm = confusion_matrix(y_true, y_pred)\n",
    "\n",
    "plt.figure(figsize=(5,4))\n",
    "sns.heatmap(cm, annot=True, fmt='d', cmap='Blues', xticklabels=[\"Negative\", \"Positive\"], yticklabels=[\"Negative\", \"Positive\"])\n",
    "plt.xlabel(\"Predicted\")\n",
    "plt.ylabel(\"Actual\")\n",
    "plt.title(\"Confusion Matrix\")\n",
    "plt.show()"
   ]
  }
 ],
 "metadata": {
  "kernelspec": {
   "display_name": "ami4",
   "language": "python",
   "name": "python3"
  },
  "language_info": {
   "codemirror_mode": {
    "name": "ipython",
    "version": 3
   },
   "file_extension": ".py",
   "mimetype": "text/x-python",
   "name": "python",
   "nbconvert_exporter": "python",
   "pygments_lexer": "ipython3",
   "version": "3.10.18"
  }
 },
 "nbformat": 4,
 "nbformat_minor": 5
}
